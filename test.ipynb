{
 "cells": [
  {
   "cell_type": "markdown",
   "id": "49ef03cd-fee7-44b4-aa24-2fe9365deb0d",
   "metadata": {},
   "source": [
    "# Testing script for installation #\n",
    "- Ignore warning messages! You may need it for public notebooks!\n",
    "- If you don't see error messages, the test is passed!"
   ]
  },
  {
   "cell_type": "markdown",
   "id": "a0b40cf6-0a3d-48c2-886f-faf7933b2ee3",
   "metadata": {
    "tags": []
   },
   "source": [
    "### CS5489 ###"
   ]
  },
  {
   "cell_type": "code",
   "execution_count": 1,
   "id": "44d91352-62c6-414a-86a1-b4f052a4caf5",
   "metadata": {},
   "outputs": [
    {
     "name": "stderr",
     "output_type": "stream",
     "text": [
      "C:\\Users\\User\\AppData\\Local\\Temp\\ipykernel_13132\\1609299166.py:5: DeprecationWarning: `set_matplotlib_formats` is deprecated since IPython 7.23, directly use `matplotlib_inline.backend_inline.set_matplotlib_formats()`\n",
      "  IPython.core.display.set_matplotlib_formats(\"jpg\")\n"
     ]
    }
   ],
   "source": [
    "%matplotlib inline\n",
    "import IPython.core.display         \n",
    "# setup output image format (Chrome works best) \n",
    "# jpg is better for images\n",
    "IPython.core.display.set_matplotlib_formats(\"jpg\")\n",
    "import matplotlib.pyplot as plt\n",
    "import matplotlib\n",
    "from numpy import *\n",
    "from sklearn import *\n",
    "import glob\n",
    "import pandas as pd\n",
    "import os\n",
    "import csv\n",
    "import string\n",
    "import skimage.io\n",
    "import skimage.color\n",
    "import skimage.util\n",
    "import zipfile\n",
    "import fnmatch\n",
    "import skimage.transform\n",
    "\n",
    "import time"
   ]
  },
  {
   "cell_type": "code",
   "execution_count": 2,
   "id": "671d8221-1658-4d24-93d6-49b7e3e3de02",
   "metadata": {},
   "outputs": [
    {
     "name": "stdout",
     "output_type": "stream",
     "text": [
      "2.5.0 2.5.0\n"
     ]
    }
   ],
   "source": [
    "import tensorflow as tf\n",
    "from tensorflow import keras\n",
    "from tensorflow.keras.models import Sequential, Model\n",
    "from tensorflow.keras.layers import Dense, Activation, Conv2D, Flatten, Dropout, Input, BatchNormalization, \\\n",
    "                                    GlobalAveragePooling2D, Concatenate, Average\n",
    "from tensorflow.keras import backend as K\n",
    "from tensorflow.keras.callbacks import TensorBoard\n",
    "from tensorflow.keras.preprocessing.image import ImageDataGenerator\n",
    "from tensorflow.keras.preprocessing import image\n",
    "from tensorflow.keras.models import load_model\n",
    "from tensorflow.keras.optimizers.schedules import ExponentialDecay\n",
    "\n",
    "import zipfile\n",
    "\n",
    "import logging\n",
    "logging.basicConfig()\n",
    "import struct\n",
    "print(keras.__version__, tf.__version__)\n",
    "# use keras backend (K) to force channels-last ordering\n",
    "K.set_image_data_format('channels_last')"
   ]
  },
  {
   "cell_type": "code",
   "execution_count": 3,
   "id": "5f33034a-15a5-4543-895d-72e4dd22cf8f",
   "metadata": {},
   "outputs": [],
   "source": [
    "#2.5.0\n",
    "from tensorflow.keras.applications import ResNet50, InceptionV3, EfficientNetB0\n",
    "#import tensorflow.keras.applications.efficientnet.preprocess_input as pi_enb0\n",
    "#import tensorflow.keras.applications.resnet.preprocess_input as pi_rn50\n",
    "#import tensorflow.keras.applications.inception_v3.preprocess_input as pi_inv3"
   ]
  },
  {
   "cell_type": "code",
   "execution_count": 4,
   "id": "2b8bd5ba-2851-4df1-a778-23e5f72cf4a8",
   "metadata": {},
   "outputs": [
    {
     "name": "stdout",
     "output_type": "stream",
     "text": [
      "True\n",
      "[PhysicalDevice(name='/physical_device:GPU:0', device_type='GPU')]\n",
      "WARNING:tensorflow:From C:\\Users\\User\\AppData\\Local\\Temp\\ipykernel_13132\\1656136684.py:20: The name tf.keras.backend.set_session is deprecated. Please use tf.compat.v1.keras.backend.set_session instead.\n",
      "\n"
     ]
    },
    {
     "name": "stderr",
     "output_type": "stream",
     "text": [
      "WARNING:tensorflow:From C:\\Users\\User\\AppData\\Local\\Temp\\ipykernel_13132\\1656136684.py:20: The name tf.keras.backend.set_session is deprecated. Please use tf.compat.v1.keras.backend.set_session instead.\n",
      "\n"
     ]
    }
   ],
   "source": [
    "# compatible with v1 or v2\n",
    "def tf_do_i_have_gpu():\n",
    "    print(tf.test.is_built_with_cuda())\n",
    "    if tf.__version__[0] == '1':        \n",
    "        print(tf.test.is_gpu_available())\n",
    "        print(tf.test.gpu_device_name())\n",
    "        return tf.test.is_gpu_available()\n",
    "    else:\n",
    "        print(tf.config.list_physical_devices('GPU'))\n",
    "        return len(tf.config.list_physical_devices('GPU')) > 0\n",
    "\n",
    "if tf_do_i_have_gpu():\n",
    "    if tf.__version__[0] == '1':\n",
    "        config = tf.compat.ConfigProto() \n",
    "        config.gpu_options.per_process_gpu_memory_fraction = 0.9  # 0.6 sometimes works better for folks\n",
    "        keras.backend.tensorflow_backend.set_session(tf.Session(config=config))\n",
    "    else:\n",
    "        config = tf.compat.v1.ConfigProto()\n",
    "        config.gpu_options.per_process_gpu_memory_fraction = 0.9  # 0.6 sometimes works better for folks\n",
    "        tf.compat.v1.keras.backend.set_session(tf.compat.v1.Session(config=config))"
   ]
  },
  {
   "cell_type": "markdown",
   "id": "ce345cb8-8f41-4903-ada9-7bd5be4367c1",
   "metadata": {},
   "source": [
    "### CS6493 ###"
   ]
  },
  {
   "cell_type": "code",
   "execution_count": 5,
   "id": "10cae4b8-5158-42ce-8e3b-837741543480",
   "metadata": {},
   "outputs": [
    {
     "name": "stdout",
     "output_type": "stream",
     "text": [
      "Mon Jan 17 01:08:27 2022       \n",
      "+-----------------------------------------------------------------------------+\n",
      "| NVIDIA-SMI 511.23       Driver Version: 511.23       CUDA Version: 11.6     |\n",
      "|-------------------------------+----------------------+----------------------+\n",
      "| GPU  Name            TCC/WDDM | Bus-Id        Disp.A | Volatile Uncorr. ECC |\n",
      "| Fan  Temp  Perf  Pwr:Usage/Cap|         Memory-Usage | GPU-Util  Compute M. |\n",
      "|                               |                      |               MIG M. |\n",
      "|===============================+======================+======================|\n",
      "|   0  NVIDIA GeForce ... WDDM  | 00000000:81:00.0  On |                  N/A |\n",
      "|  0%   24C    P2    59W / 280W |   1127MiB / 11264MiB |      3%      Default |\n",
      "|                               |                      |                  N/A |\n",
      "+-------------------------------+----------------------+----------------------+\n",
      "                                                                               \n",
      "+-----------------------------------------------------------------------------+\n",
      "| Processes:                                                                  |\n",
      "|  GPU   GI   CI        PID   Type   Process name                  GPU Memory |\n",
      "|        ID   ID                                                   Usage      |\n",
      "|=============================================================================|\n",
      "|    0   N/A  N/A      5580      C   ...vs\\sklearn-env\\python.exe    N/A      |\n",
      "|    0   N/A  N/A      6460    C+G   C:\\Windows\\explorer.exe         N/A      |\n",
      "|    0   N/A  N/A      6628    C+G                                   N/A      |\n",
      "|    0   N/A  N/A      6872    C+G   ...nputApp\\TextInputHost.exe    N/A      |\n",
      "|    0   N/A  N/A      6984    C+G   ...y\\ShellExperienceHost.exe    N/A      |\n",
      "|    0   N/A  N/A      8500    C+G   ...artMenuExperienceHost.exe    N/A      |\n",
      "|    0   N/A  N/A      9080    C+G   ...5n1h2txyewy\\SearchApp.exe    N/A      |\n",
      "|    0   N/A  N/A     13132      C   ...vs\\sklearn-env\\python.exe    N/A      |\n",
      "|    0   N/A  N/A     15116    C+G   ...marks\\FurMark\\FurMark.exe    N/A      |\n",
      "|    0   N/A  N/A     17216    C+G   ...eStacks_nxt\\HD-Player.exe    N/A      |\n",
      "+-----------------------------------------------------------------------------+\n"
     ]
    }
   ],
   "source": [
    "!nvidia-smi"
   ]
  },
  {
   "cell_type": "code",
   "execution_count": 6,
   "id": "b4d9879a-d949-48fd-be28-9dd818d15178",
   "metadata": {},
   "outputs": [
    {
     "name": "stdout",
     "output_type": "stream",
     "text": [
      "PyTorch version:  1.10.1\n",
      "GPU support:  True\n",
      "Available devices count:  1\n"
     ]
    }
   ],
   "source": [
    "import torch\n",
    "print(\"PyTorch version: \", torch.__version__)\n",
    "print(\"GPU support: \", torch.cuda.is_available())\n",
    "print(\"Available devices count: \", torch.cuda.device_count())"
   ]
  },
  {
   "cell_type": "code",
   "execution_count": 7,
   "id": "65d31009-f263-4f8e-8872-f8cd8a1c0564",
   "metadata": {},
   "outputs": [],
   "source": [
    "import torchvision"
   ]
  },
  {
   "cell_type": "code",
   "execution_count": 8,
   "id": "69bb5ccb-5e4e-4579-abf8-ef85d3aeaf46",
   "metadata": {},
   "outputs": [
    {
     "name": "stderr",
     "output_type": "stream",
     "text": [
      "C:\\ProgramData\\Miniconda3\\envs\\sklearn-env\\lib\\site-packages\\torchaudio\\backend\\utils.py:67: UserWarning: No audio backend is available.\n",
      "  warnings.warn('No audio backend is available.')\n"
     ]
    }
   ],
   "source": [
    "import torchaudio"
   ]
  },
  {
   "cell_type": "markdown",
   "id": "e16a2f2b-3f3c-42b8-b407-354e4d7c3585",
   "metadata": {},
   "source": [
    "### CS5491 ###"
   ]
  },
  {
   "cell_type": "code",
   "execution_count": 9,
   "id": "9b5dfc84-ad07-4532-a51f-c05afb173674",
   "metadata": {},
   "outputs": [],
   "source": [
    "#import numpy as np\n",
    "from scipy.spatial import Voronoi, voronoi_plot_2d \n",
    "#import matplotlib.pyplot as plt\n",
    "\n",
    "import networkx as nx"
   ]
  },
  {
   "cell_type": "markdown",
   "id": "c410ba8b-ed5f-424e-b7fa-9460eb171c8b",
   "metadata": {},
   "source": []
  },
  {
   "cell_type": "code",
   "execution_count": null,
   "id": "c7726d2a-4f50-4206-a97b-1511dc594721",
   "metadata": {},
   "outputs": [],
   "source": []
  }
 ],
 "metadata": {
  "kernelspec": {
   "display_name": "Python 3 (ipykernel)",
   "language": "python",
   "name": "python3"
  },
  "language_info": {
   "codemirror_mode": {
    "name": "ipython",
    "version": 3
   },
   "file_extension": ".py",
   "mimetype": "text/x-python",
   "name": "python",
   "nbconvert_exporter": "python",
   "pygments_lexer": "ipython3",
   "version": "3.9.9"
  }
 },
 "nbformat": 4,
 "nbformat_minor": 5
}
